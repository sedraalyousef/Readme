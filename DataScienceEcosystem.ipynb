{
 "cells": [
  {
   "cell_type": "markdown",
   "id": "d870df02-0ce5-4f2d-962e-2960f9823fed",
   "metadata": {},
   "source": [
    "# Data Science Tools and Ecosystem"
   ]
  },
  {
   "cell_type": "markdown",
   "id": "41641501-2664-43d6-8b79-e9465dde7c18",
   "metadata": {},
   "source": [
    "In this notebook, Data Science Tools and Ecosystem are summarized."
   ]
  },
  {
   "cell_type": "markdown",
   "id": "9f112d88-1045-44c2-8664-236c61ea1818",
   "metadata": {},
   "source": [
    "##### Objectives:\n",
    "* list data science languages\n",
    "* list open sourse tools for data science\n",
    "* list data science liberaries"
   ]
  },
  {
   "cell_type": "markdown",
   "id": "ab7b3ace-cbd8-4f24-9578-bc1d35f0e63c",
   "metadata": {},
   "source": [
    "Some of the popular languages that Data Scientists use are:\n",
    "1. Pyhton\n",
    "2. R\n",
    "3. SQL\n",
    "4. Julia\n",
    "    "
   ]
  },
  {
   "cell_type": "markdown",
   "id": "6f90147d-5fda-4ba7-9767-e162550f7654",
   "metadata": {},
   "source": [
    "Some of the commonly used libraries used by Data Scientists include:\n",
    "1. NumPy\n",
    "2. Pandas\n",
    "3. SciPy"
   ]
  },
  {
   "cell_type": "markdown",
   "id": "84a06482-6dfc-4f29-b958-a15a5e84f3c7",
   "metadata": {},
   "source": [
    "|**Data Science Tools**|\n",
    "|----|\n",
    "|RStudio|\n",
    "|TensorFlow|\n",
    "|Apache Spark|"
   ]
  },
  {
   "cell_type": "markdown",
   "id": "6d2d56c5-0177-405a-a3cf-bf45482c20c6",
   "metadata": {},
   "source": [
    "Below are a few examples of evaluating arithmetic expressions in Python"
   ]
  },
  {
   "cell_type": "code",
   "execution_count": 1,
   "id": "de429bc4-1c5b-472c-98a4-5ae5ac2fb321",
   "metadata": {},
   "outputs": [
    {
     "data": {
      "text/plain": [
       "17"
      ]
     },
     "execution_count": 1,
     "metadata": {},
     "output_type": "execute_result"
    }
   ],
   "source": [
    "#This a simple arithmetic expression to mutiply then add integers\n",
    "(3*4)+5"
   ]
  },
  {
   "cell_type": "code",
   "execution_count": 2,
   "id": "5269a2fb-3f2e-44f8-b081-1e7d21532bed",
   "metadata": {},
   "outputs": [
    {
     "data": {
      "text/plain": [
       "3.3333333333333335"
      ]
     },
     "execution_count": 2,
     "metadata": {},
     "output_type": "execute_result"
    }
   ],
   "source": [
    "## This will convert 200 minutes to hours by diving by 60\n",
    "200/60"
   ]
  },
  {
   "cell_type": "markdown",
   "id": "8b93fcad-3807-4146-a678-b0e1747ad194",
   "metadata": {},
   "source": [
    "## Author:\n",
    "Sedra Alyousef"
   ]
  },
  {
   "cell_type": "code",
   "execution_count": null,
   "id": "a82b766f-6b0b-4f0a-96ad-a5ba202164e3",
   "metadata": {},
   "outputs": [],
   "source": []
  }
 ],
 "metadata": {
  "kernelspec": {
   "display_name": "Python 3 (ipykernel)",
   "language": "python",
   "name": "python3"
  },
  "language_info": {
   "codemirror_mode": {
    "name": "ipython",
    "version": 3
   },
   "file_extension": ".py",
   "mimetype": "text/x-python",
   "name": "python",
   "nbconvert_exporter": "python",
   "pygments_lexer": "ipython3",
   "version": "3.10.9"
  }
 },
 "nbformat": 4,
 "nbformat_minor": 5
}
